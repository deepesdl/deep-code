{
 "cells": [
  {
   "cell_type": "markdown",
   "id": "1a10328e-1686-4ba4-9c16-4e47ebeb023e",
   "metadata": {
    "tags": []
   },
   "source": [
    "## A demo notebook to publish datacubes and workflow to EarthCODE catalog\n",
    "### A DeepESDL example notebook\n",
    "\n",
    "Please, also refer to the [DeepESDL documentation](https://deepesdl.readthedocs.io/en/latest/guide/jupyterlab/) and visit the platform's [website](https://www.earthsystemdatalab.net/) for further information!\n",
    "\n",
    "Brockmann Consult, 2025\n",
    "\n",
    "-----------------\n",
    "\n",
    "**This notebook runs with the python environment `users-deep-code-test`, please checkout the documentation for [help on changing the environment](https://deepesdl.readthedocs.io/en/latest/guide/jupyterlab/#python-environment-selection-of-the-jupyter-kerne).**"
   ]
  },
  {
   "cell_type": "markdown",
   "id": "2f7e3da7-1c7f-4aaf-87ec-409dccb339aa",
   "metadata": {},
   "source": [
    "###  📘 Pre-requisite:\n",
    "Before using the deep-code CLI or API to publish metadata, users must configure GitHub access by creating a .gitaccess file in the working directory from which deep-code is executed.\n",
    "\n",
    "1. Generate a Personal Access Token (PAT) from your GitHUB account:\n",
    "    1. Navigate to GitHub → Settings → Developer settings → Personal access tokens.\n",
    "    2. Click “Generate new token”.\n",
    "    3. Choose the following scopes to ensure full access:\n",
    "        - repo (Full control of repositories — includes fork, pull, push, and read)\n",
    "    4. Generate the token and copy it immediately — GitHub won’t show it again.\n",
    "\n",
    "2. Create a .gitaccess File\n",
    "\n",
    "In the same directory where you run the deep-code commands, create a file named .gitaccess with the following content:\n",
    "```\n",
    "github-username: your-git-user\n",
    "github-token: personal access token\n",
    "```\n",
    "Replace your-git-user and your-personal-access-token with your actual GitHub username and token.\n",
    "\n",
    "This file is required to allow deep-code to fork the Open Science Metadata repository, commit metadata changes, and open a pull request to the EarthCODE Catalog."
   ]
  },
  {
   "cell_type": "code",
   "execution_count": null,
   "id": "dc774651-bef8-4483-9a83-7fcacdc88797",
   "metadata": {
    "tags": []
   },
   "outputs": [],
   "source": [
    "import os\n",
    "import xcube\n",
    "import warnings\n",
    "import deep_code\n",
    "\n",
    "from xcube.webapi.viewer import Viewer\n",
    "from xcube.core.store import new_data_store\n",
    "from deep_code.tools.lint import LintDataset\n",
    "from deep_code.tools.publish import Publisher"
   ]
  },
  {
   "cell_type": "code",
   "execution_count": null,
   "id": "626af94e-9397-4e1f-83e8-9fb1de5d9e0b",
   "metadata": {
    "tags": []
   },
   "outputs": [],
   "source": [
    "warnings.filterwarnings('ignore')"
   ]
  },
  {
   "cell_type": "markdown",
   "id": "deb30310-feb2-4422-8f0a-27ca1dca4a9f",
   "metadata": {},
   "source": [
    "## Generate starter configuration templates for publishing to EarthCODE openscience catalog."
   ]
  },
  {
   "cell_type": "code",
   "execution_count": null,
   "id": "bcd6d1aa-f1d6-4008-94ee-820c2553db37",
   "metadata": {
    "tags": []
   },
   "outputs": [],
   "source": [
    "!deep-code generate-config"
   ]
  },
  {
   "cell_type": "markdown",
   "id": "da3294a9-f7e7-40ed-8080-f32296239c25",
   "metadata": {},
   "source": [
    "## Here we create a small dataset from xcube-cmems store"
   ]
  },
  {
   "cell_type": "code",
   "execution_count": null,
   "id": "dcc6255f-b680-419c-acf1-38968c104790",
   "metadata": {
    "tags": []
   },
   "outputs": [],
   "source": [
    "store = new_data_store(\"cmems\")\n",
    "store"
   ]
  },
  {
   "cell_type": "code",
   "execution_count": null,
   "id": "8003fe01-2186-4a60-9ec6-b6ce51d2a185",
   "metadata": {
    "tags": []
   },
   "outputs": [],
   "source": [
    "ds = store.open_data(\n",
    "    \"DMI-BALTIC-SST-L3S-NRT-OBS_FULL_TIME_SERIE\",\n",
    "    variable_names=[\"sea_surface_temperature\"],\n",
    "    bbox=[9, 53, 20, 62],\n",
    "    time_range=(\"2022-01-01\", \"2022-01-05\"),\n",
    ")\n",
    "ds"
   ]
  },
  {
   "cell_type": "markdown",
   "id": "b8b699a2-e4e4-4616-be82-d9b5381a6b08",
   "metadata": {
    "tags": []
   },
   "source": [
    "## Lint your in-memory dataset for metadata correctness and completness, before publishing to EarthCODE open science catalog"
   ]
  },
  {
   "cell_type": "code",
   "execution_count": null,
   "id": "16598aff-6967-4690-85b9-efb672369cf1",
   "metadata": {
    "tags": []
   },
   "outputs": [],
   "source": [
    "linter = LintDataset(dataset=ds)\n",
    "linter.lint_dataset()"
   ]
  },
  {
   "cell_type": "markdown",
   "id": "e631c4c0-14bb-4602-ae41-cc93c8cf835e",
   "metadata": {},
   "source": [
    "## Fix the errors from the linter"
   ]
  },
  {
   "cell_type": "markdown",
   "id": "836122b8-f1c7-4690-8b8e-b463859765ef",
   "metadata": {
    "tags": []
   },
   "source": [
    "Adding gcmd_keyword_url connects your data to a semantic network of Earth science concepts, enabling:\n",
    "\n",
    "- Better automated discovery\n",
    "\n",
    "- Stronger metadata interoperability\n",
    "\n",
    "- Alignment with international FAIR standards\n",
    "\n",
    "To find the the gcmd url for your variable, please use, https://gcmd.earthdata.nasa.gov/KeywordViewer/scheme/all?gtm_scheme=all"
   ]
  },
  {
   "cell_type": "code",
   "execution_count": null,
   "id": "f7b34a8b-447b-4be5-b0f2-0c70cc9352e3",
   "metadata": {
    "tags": []
   },
   "outputs": [],
   "source": [
    "ds.attrs[\"description\"] = (\n",
    "    \"This is a extracted dataset from copernicus marine data store\" \n",
    ")\n",
    "\n",
    "ds[\"sea_surface_temperature\"].attrs[\"gcmd_keyword_url\"] = \"https://gcmd.earthdata.nasa.gov/KeywordViewer/scheme/all/e4d58a7f-7eaa-4f75-996a-18238c698063?gtm_keyword=SEA%20SURFACE%20FOUNDATION%20TEMPERATURE&gtm_scheme=Earth%20Science\""
   ]
  },
  {
   "cell_type": "markdown",
   "id": "8993c3c2-1a08-4ec8-a462-f5d7d1eac9e4",
   "metadata": {},
   "source": [
    "## Write the dataset to the team s3 bucket"
   ]
  },
  {
   "cell_type": "code",
   "execution_count": null,
   "id": "2504fc83-416e-469e-b98f-9612061283fa",
   "metadata": {
    "tags": []
   },
   "outputs": [],
   "source": [
    "S3_USER_STORAGE_KEY = os.environ[\"S3_USER_STORAGE_KEY\"]\n",
    "S3_USER_STORAGE_SECRET = os.environ[\"S3_USER_STORAGE_SECRET\"]\n",
    "S3_USER_STORAGE_BUCKET = os.environ[\"S3_USER_STORAGE_BUCKET\"]"
   ]
  },
  {
   "cell_type": "code",
   "execution_count": null,
   "id": "06a2a119-9158-46eb-8aab-8618d9293023",
   "metadata": {
    "tags": []
   },
   "outputs": [],
   "source": [
    "team_store = new_data_store(\n",
    "    \"s3\", \n",
    "    root=S3_USER_STORAGE_BUCKET, \n",
    "    storage_options=dict(\n",
    "        anon=False, \n",
    "        key=S3_USER_STORAGE_KEY, \n",
    "        secret=S3_USER_STORAGE_SECRET\n",
    "    )\n",
    ")"
   ]
  },
  {
   "cell_type": "code",
   "execution_count": null,
   "id": "f1da860d-6e03-42fc-a098-5f8e95d70399",
   "metadata": {
    "tags": []
   },
   "outputs": [],
   "source": [
    "team_store.write_data(ds, \"cmems_sst_v2.zarr\", replace=True)"
   ]
  },
  {
   "cell_type": "markdown",
   "id": "ba56daec-42f3-41b9-b2a0-8510cb0e73f5",
   "metadata": {},
   "source": [
    "The user workflow which is the JNB has to be pushed to git repository: https://github.com/deepesdl/cube-gen/blob/main/Permafrost/Create-CCI-Permafrost-cube-EarthCODE.ipynb"
   ]
  },
  {
   "cell_type": "markdown",
   "id": "628dac5f-84ca-4205-9947-449a7e409be7",
   "metadata": {
    "tags": []
   },
   "source": [
    "# 📘 Publishing Metadata to the EarthCODE Catalogue"
   ]
  },
  {
   "cell_type": "markdown",
   "id": "b7aa7bc9-83d5-4e43-9f7f-a4da18e8cacd",
   "metadata": {},
   "source": [
    "Once the dataset and workflow metadata are prepared and validated, users can initiate the publishing process using the deep-code CLI. The following command automates the entire workflow:"
   ]
  },
  {
   "cell_type": "markdown",
   "id": "41fcdb38-3e17-4042-b4e5-25a1be46b581",
   "metadata": {},
   "source": [
    "## 🔹 The below command performs the following steps:\n",
    "\n",
    "1. Generates valid STAC and OGC API Records based on the provided configuration files\n",
    "\n",
    "2. Forks the open-science-catalog-metadata repository on GitHub\n",
    "\n",
    "3. Inserts the generated records into the correct directory structure\n",
    "\n",
    "4. Creates a Pull Request (PR) for review by the Open Science Catalog steward"
   ]
  },
  {
   "cell_type": "markdown",
   "id": "e763ef5b-c4c2-4991-a612-7f2bff9a676d",
   "metadata": {},
   "source": [
    "## publish using the python function"
   ]
  },
  {
   "cell_type": "code",
   "execution_count": null,
   "id": "c7e3a5a8-d74d-4bd4-9b76-45ace4b2d341",
   "metadata": {
    "tags": []
   },
   "outputs": [],
   "source": [
    "# publish using the python function\n",
    "publisher = Publisher(\n",
    "    dataset_config_path=\"dataset-config.yaml\",\n",
    "    workflow_config_path=\"workflow-config.yaml\",\n",
    "    environment=\"staging\",\n",
    ")\n",
    "publisher.publish_all()"
   ]
  },
  {
   "cell_type": "markdown",
   "id": "09bcacf5-f435-4af3-8984-5ddf421504b8",
   "metadata": {},
   "source": [
    "## publish using cli"
   ]
  },
  {
   "cell_type": "code",
   "execution_count": null,
   "id": "1aa9e003-661c-40ba-b2ad-72d1eee48a83",
   "metadata": {
    "tags": []
   },
   "outputs": [],
   "source": [
    "!deep-code publish dataset-config.yaml workflow-config.yaml -e staging"
   ]
  },
  {
   "cell_type": "code",
   "execution_count": null,
   "id": "406f5d35-03eb-4a6c-ba99-f70ee1101038",
   "metadata": {},
   "outputs": [],
   "source": []
  }
 ],
 "metadata": {
  "kernelspec": {
   "display_name": "users-deepesdl-deep-code",
   "language": "python",
   "name": "conda-env-users-deepesdl-deep-code-py"
  },
  "language_info": {
   "codemirror_mode": {
    "name": "ipython",
    "version": 3
   },
   "file_extension": ".py",
   "mimetype": "text/x-python",
   "name": "python",
   "nbconvert_exporter": "python",
   "pygments_lexer": "ipython3",
   "version": "3.11.13"
  }
 },
 "nbformat": 4,
 "nbformat_minor": 5
}
